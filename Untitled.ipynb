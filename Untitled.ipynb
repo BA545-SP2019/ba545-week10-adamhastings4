{
 "cells": [
  {
   "cell_type": "markdown",
   "metadata": {},
   "source": [
    "### Competition 2 ###"
   ]
  },
  {
   "cell_type": "markdown",
   "metadata": {},
   "source": [
    "This initial report references the following file: [Competition2](Competition2.ipynb)"
   ]
  },
  {
   "cell_type": "markdown",
   "metadata": {},
   "source": [
    "### Question ###"
   ]
  },
  {
   "cell_type": "markdown",
   "metadata": {},
   "source": [
    "In this competition we were trying to gain understanding and successful application of \"Adavanced Preperation of Financial Data\". In this project, we are aiming to predict if the client of a credit card company is going to make their monlthy payment. We are planning on achieving this by using both prior history of payments and their demogrpahic catagory.  \n",
    "\n",
    "There are of course many factors that affect both the likelihood of a client making their payments on time. There level of education, relationship status, sex and age are the main demogrpahic catagoristics we are going to look at. \n",
    "\n",
    "In our project we are going to test our data several times with several different affecting factors. The aim was to gain the best possible performance out of our dataset."
   ]
  },
  {
   "cell_type": "markdown",
   "metadata": {},
   "source": [
    "### Steps Taken (so far)###"
   ]
  },
  {
   "cell_type": "markdown",
   "metadata": {},
   "source": [
    "### Competition 2 ###\n",
    "\n",
    "This initial report references the following file: [Competition2](Competition2.ipynb)\n",
    "\n",
    "### Question ###\n",
    "In this competition we were trying to gain understanding and successful application of \"Adavanced Preperation of Financial Data\". In this project, we are aiming to predict if the client of a credit card company is going to make their monlthy payment. We are planning on achieving this by using both prior history of payments and their demogrpahic catagory.  \n",
    "\n",
    "There are of course many factors that affect both the likelihood of a client making their payments on time. There level of education, relationship status, sex and age are the main demogrpahic catagoristics we are going to look at. \n",
    "\n",
    "In our project we are going to test our data several times with several different affecting factors. The aim was to gain the best possible performance out of our dataset.\n",
    "\n",
    "## Steps Taken (so far) ##\n",
    "\n",
    "### Cleaning the Data ###\n",
    "\n",
    "We initially cleaned the data. We did this with the use of the data dictionary.\n",
    "We used the data dictionary to understand what values should be in each column. This was particularly relevant in the columns that were made up of qualitative data. Such as sex, age, and education. The cleaning of the data has been interesting for a couple of reasons... Firstly, marital status should have only contained the numbers 1 or 2. Thus, married or not married. We were getting the number 0 fairly often. We decided to change all of the 0's to the number 3 and they would fall under the catagory of \"others\". The second interesting column that needed cleaning was payment status. Some people had negative numbers. Meaning they had paid their bills off early. We decided to change all negative numbers to 0 to indicate that they had simply paid on time. \n",
    "\n",
    "### Modeling ###\n",
    "\n",
    "For our modeling we have decided there are a number of potential options that we will look at. There are three different models that we are going to look at. The two that we are going to concentrate on are the Random Forest and the xgboost. We will run them for ten random train test splits. We will then average the performance of ten of these trials to establish which one performs best. \n",
    "\n",
    "\n"
   ]
  }
 ],
 "metadata": {
  "kernelspec": {
   "display_name": "Python 3",
   "language": "python",
   "name": "python3"
  },
  "language_info": {
   "codemirror_mode": {
    "name": "ipython",
    "version": 3
   },
   "file_extension": ".py",
   "mimetype": "text/x-python",
   "name": "python",
   "nbconvert_exporter": "python",
   "pygments_lexer": "ipython3",
   "version": "3.6.5"
  }
 },
 "nbformat": 4,
 "nbformat_minor": 2
}
